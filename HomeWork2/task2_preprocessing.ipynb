{
 "cells": [
  {
   "cell_type": "markdown",
   "metadata": {},
   "source": [
    "# Assignment 1.2: Word2vec preprocessing (20 points)"
   ]
  },
  {
   "cell_type": "markdown",
   "metadata": {},
   "source": [
    "Preprocessing is not the most exciting part of NLP, but it is still one of the most important ones. Your task is to preprocess raw text (you can use your own, or [this one](http://mattmahoney.net/dc/text8.zip). For this task text preprocessing mostly consists of:\n",
    "\n",
    "1. cleaning (mostly, if your dataset is from social media or parsed from the internet)\n",
    "1. tokenization\n",
    "1. building the vocabulary and choosing its size. Use only high-frequency words, change all other words to UNK or handle it in your own manner. You can use `collections.Counter` for that.\n",
    "1. assigning each token a number (numericalization). In other words, make word2index и index2word objects.\n",
    "1. data structuring and batching - make X and y matrices generator for word2vec (explained in more details below)\n",
    "\n",
    "**ATTN!:** If you use your own data, please, attach a download link. \n",
    "\n",
    "Your goal is to make **Batcher** class which returns two numpy tensors with word indices. It should be possible to use one for word2vec training. You can implement batcher for Skip-Gram or CBOW architecture, the picture below can be helpful to remember the difference.\n",
    "\n",
    "![text](https://raw.githubusercontent.com/deepmipt/deep-nlp-seminars/651804899d05b96fc72b9474404fab330365ca09/seminar_02/pics/architecture.png)\n",
    "\n",
    "There are several ways to do it right. Shapes could be `x_batch.shape = (batch_size, 2*window_size)`, `y_batch.shape = (batch_size,)` for CBOW or `(batch_size,)`, `(batch_size, 2*window_size)` for Skip-Gram. You should **not** do negative sampling here.\n",
    "\n",
    "They should be adequately parametrized: CBOW(window_size, ...), SkipGram(window_size, ...). You should implement only one batcher in this task; and it's up to you which one to chose.\n",
    "\n",
    "Useful links:\n",
    "1. [Word2Vec Tutorial - The Skip-Gram Model](http://mccormickml.com/2016/04/19/word2vec-tutorial-the-skip-gram-model/)\n",
    "1. [Efficient Estimation of Word Representations in Vector Space](https://arxiv.org/pdf/1301.3781.pdf)\n",
    "1. [Distributed Representations of Words and Phrases and their Compositionality](http://papers.nips.cc/paper/5021-distributed-representations-of-words-and-phrases-and-their-compositionality.pdf)\n",
    "\n",
    "You can write the code in this notebook, or in a separate file. It can be reused for the next task. The result of your work should represent that your batch has a proper structure (right shapes) and content (words should be from one context, not some random indices). To show that, translate indices back to words and print them to show something like this:\n",
    "\n",
    "```\n",
    "text = ['first', 'used', 'against', 'early', 'working', 'class', 'radicals', 'including']\n",
    "\n",
    "window_size = 2\n",
    "\n",
    "# CBOW:\n",
    "indices_to_words(x_batch) = \\\n",
    "        [['first', 'used', 'early', 'working'],\n",
    "        ['used', 'against', 'working', 'class'],\n",
    "        ['against', 'early', 'class', 'radicals'],\n",
    "        ['early', 'working', 'radicals', 'including']]\n",
    "\n",
    "indices_to_words(labels_batch) = ['against', 'early', 'working', 'class']\n",
    "```"
   ]
  },
  {
   "cell_type": "code",
   "execution_count": 1,
   "metadata": {},
   "outputs": [],
   "source": [
    "import numpy as np\n",
    "import torch\n",
    "from torch.utils import data\n",
    "from collections import Counter\n",
    "import re"
   ]
  },
  {
   "cell_type": "code",
   "execution_count": 2,
   "metadata": {},
   "outputs": [],
   "source": [
    "class CorpusDataset_CBOW(data.Dataset):\n",
    "    def __init__(self, data_link, window_size=4):\n",
    "        # text preprocessing\n",
    "        words_tokenized = self.read_preprocess_text(data_link)\n",
    "        # creating training samples: ([context_array, target_word])\n",
    "        self.context_target =  [([words_tokenized[i-(j+1)] for j in range(window_size)] + [words_tokenized[i+(j+1)] for j in range(window_size)],\n",
    "                                words_tokenized[i]) for i in range(window_size, len(words_tokenized)-window_size)]\n",
    "        # vocabulary of words\n",
    "        self.vocab = Counter(words_tokenized)\n",
    "        # word2index mapping\n",
    "        self.word2index = {word_tuple[0]: idx for idx, word_tuple in enumerate(self.vocab.most_common())}\n",
    "        # index2word mapping\n",
    "        self.index2word = list(self.word2index.keys())\n",
    "        self.vocab_size = len(self.vocab)\n",
    "        self.window_size = window_size\n",
    "        \n",
    "    def read_preprocess_text(self, data_link):\n",
    "        text = open(data_link, 'r').readline()\n",
    "        text = re.sub(r\"[^a-zA-Z0-9]+\", ' ', text)\n",
    "        text = text.split(' ')\n",
    "        counter_words = Counter(text)\n",
    "        res = []\n",
    "        for word in text:\n",
    "            if counter_words[word] > 5:\n",
    "                res.append(word)\n",
    "            else:\n",
    "                res.append('UNK')\n",
    "        return np.array(res)\n",
    "\n",
    "    def __getitem__(self, idx):\n",
    "        context = torch.tensor([self.word2index[w] for w in self.context_target[idx][0]])\n",
    "        context_words = self.context_target[idx][0]\n",
    "        target = torch.tensor([self.word2index[self.context_target[idx][1]]])\n",
    "        target_words = self.context_target[idx][1]\n",
    "        return context, target, context_words, target_words\n",
    "\n",
    "    def __len__(self):\n",
    "        return len(self.context_target)"
   ]
  },
  {
   "cell_type": "code",
   "execution_count": 3,
   "metadata": {},
   "outputs": [],
   "source": [
    "text_data = CorpusDataset_CBOW('text8', window_size = 4)\n",
    "dataloader = data.DataLoader(text_data, batch_size = 1)"
   ]
  },
  {
   "cell_type": "code",
   "execution_count": 4,
   "metadata": {},
   "outputs": [],
   "source": [
    "context, target, words_c, words_t = next(iter(dataloader))"
   ]
  },
  {
   "cell_type": "code",
   "execution_count": 5,
   "metadata": {},
   "outputs": [
    {
     "name": "stdout",
     "output_type": "stream",
     "text": [
      "tensor([[  12, 3081, 5234,    6,  195,    1, 3134,   46]]) [('as',), ('originated',), ('anarchism',), ('UNK',), ('term',), ('of',), ('abuse',), ('first',)]\n"
     ]
    }
   ],
   "source": [
    "print(context, words_c)"
   ]
  },
  {
   "cell_type": "code",
   "execution_count": 6,
   "metadata": {},
   "outputs": [
    {
     "data": {
      "text/plain": [
       "(tensor([[5]]), ('a',))"
      ]
     },
     "execution_count": 6,
     "metadata": {},
     "output_type": "execute_result"
    }
   ],
   "source": [
    "target, words_t"
   ]
  },
  {
   "cell_type": "code",
   "execution_count": null,
   "metadata": {},
   "outputs": [],
   "source": []
  }
 ],
 "metadata": {
  "kernelspec": {
   "display_name": "Python 3",
   "language": "python",
   "name": "python3"
  },
  "language_info": {
   "codemirror_mode": {
    "name": "ipython",
    "version": 3
   },
   "file_extension": ".py",
   "mimetype": "text/x-python",
   "name": "python",
   "nbconvert_exporter": "python",
   "pygments_lexer": "ipython3",
   "version": "3.6.7"
  }
 },
 "nbformat": 4,
 "nbformat_minor": 4
}
